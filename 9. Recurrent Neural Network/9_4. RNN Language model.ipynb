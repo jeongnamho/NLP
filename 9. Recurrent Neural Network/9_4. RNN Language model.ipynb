{
 "cells": [
  {
   "cell_type": "markdown",
   "metadata": {},
   "source": [
    "# 4. RNN 언어 모델(Recurrent Neural Network Language Model, RNNLM)\n"
   ]
  },
  {
   "cell_type": "markdown",
   "metadata": {},
   "source": [
    "## 1) RNN 언어 모델(Recurrent Neural Network Language Model, RNNLM)\n",
    "\n",
    "- n-gram 언어 모델과 NNLM(Nueral Network Based Languaged Model)은 <ins>고정된 개수의 단어</ins>만을 입력으로 받아야 한다는 단점 존재\n",
    "- 하지만 **시점(time step)** 이라는 개념이 도입된 RNN으로 언어 모델 만들면 입력 길이를 고정 안해도 됌(이를 **RNNLM**)이라고 함\n",
    "\n",
    "- Example : \"what will the fat cat sit on\"\n",
    "\n",
    "<img src=rnnlm1_final_final.png width=400>\n",
    "\n",
    "- 위의 그림은 RNNLM이 어떻게 이전 시점의 단어들과 현재 시점의 단어로 다음 단어를 예측하는지를 보여줌\n",
    "- RNN은 기본적으로 <ins>예측 과정에서 이전 시점의 출력을 현재 시점의 입력으로 함</ins>  \n",
    "RNNLM은 what을 입력받으면, will을 예측하고 이 will은 다음 시점의 입력이 되어 the를 예측합니다. 그리고 the는 또 다시 다음 시점의 입력이 되고 해당 시점에서는 fat을 예측합니다. 그리고 이 또한 다시 다음 시점의 입력이 됩니다. 결과적으로 세번째 시점에서 fat은 앞서 나온 what, will, the라는 시퀀스로 인해 결정된 단어이며, 네번째 시점의 cat은 앞서 나온 what, will, the, fat이라는 시퀀스로 인해 결정된 단어입니다."
   ]
  }
 ],
 "metadata": {
  "kernelspec": {
   "display_name": "Python 3",
   "language": "python",
   "name": "python3"
  },
  "language_info": {
   "codemirror_mode": {
    "name": "ipython",
    "version": 3
   },
   "file_extension": ".py",
   "mimetype": "text/x-python",
   "name": "python",
   "nbconvert_exporter": "python",
   "pygments_lexer": "ipython3",
   "version": "3.7.5"
  },
  "varInspector": {
   "cols": {
    "lenName": 16,
    "lenType": 16,
    "lenVar": 40
   },
   "kernels_config": {
    "python": {
     "delete_cmd_postfix": "",
     "delete_cmd_prefix": "del ",
     "library": "var_list.py",
     "varRefreshCmd": "print(var_dic_list())"
    },
    "r": {
     "delete_cmd_postfix": ") ",
     "delete_cmd_prefix": "rm(",
     "library": "var_list.r",
     "varRefreshCmd": "cat(var_dic_list()) "
    }
   },
   "types_to_exclude": [
    "module",
    "function",
    "builtin_function_or_method",
    "instance",
    "_Feature"
   ],
   "window_display": false
  }
 },
 "nbformat": 4,
 "nbformat_minor": 2
}
