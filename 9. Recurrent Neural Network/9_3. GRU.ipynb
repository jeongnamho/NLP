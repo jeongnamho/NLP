{
 "cells": [
  {
   "cell_type": "markdown",
   "metadata": {},
   "source": [
    "# 3. 게이트 순환 유닛(Gated Recurrent Unit, GRU)\n",
    "- GRU는 LSTM의 장기 의존성 문제에 대한 해결책을 유지하면서, 은닉 상태를 업데이트하는 계산을 줄였음\n",
    "- 다시 말해서, GRU는 성능은 LSTM과 유사하면서 복잡했던 LSTM의 구조를 간단화 시켰음"
   ]
  },
  {
   "cell_type": "markdown",
   "metadata": {},
   "source": [
    "## 1) GRU(Gated Recurrent Unit)\n",
    "- LSTM\n",
    "    - 출력게이트, 입력게이트, 삭제게이트\n",
    "- GRU\n",
    "    - 업데이트 게이트, 리셋게이트\n",
    "\n",
    "<img src=img.png width=600>\n",
    "\n",
    "<img src=image14.jpg width=600>\n",
    "\n",
    "- GRU, LSTM 중 어떤 것이 모델의 성능 면에서 더 낫다고 단정지을 수 없음(기존의 LSTM을 사용하면서 최적의 하이퍼파라미터를 찾아낸 상황이라면 굳이 GRU를 쓸 필요 없음)\n",
    "- 데이터 양이 적을 때 : GRU가 더 나음\n",
    "- 데이터 양이 많을 때 : LSTM이 더 나음"
   ]
  },
  {
   "cell_type": "markdown",
   "metadata": {},
   "source": [
    "<img src=다운로드.png width=600>\n",
    "\n",
    "- LSTM Cell에서 $c_t$와 $h_t$가 하나의 벡터($h_t$)로 합쳐졌다.\n",
    "- 하나의 gate controller인 $z_t$가 forget과 input 게이트(gate)를 모두 제어한다.\n",
    "    - $z_t$가 1을 출력하는 경우 $\\Longrightarrow$ forget 게이트가 열리고 input 게이트가 닫힌다.\n",
    "    - $z_t$가 0을 출력하는 경우 $\\Longrightarrow$ forget 게이트가 닫히고 input 게이트가 열린다.\n",
    "- GRU 셀은 output 게이터가 없어 전체 상태 벡터 $h_t$가 타임 스텝마다 출력되며, 이전 상태 $h_{t-1}$의 어느 부분이 출력될지 제어하는 새로운 gate controller인 $r_t$가 있다.\n",
    "\n",
    "- GRU 셀의 상태와 각 레이어의 출력을 계산하는 식\n",
    "    - $r_t = \\sigma(W^T_{xr} \\cdot x_t + W^T_{hr} \\cdot h_{t-1} + b_r)$\n",
    "    - $z_t = \\sigma(W^T_{xz} \\cdot x_t + W^T_{hz} \\cdot h_{t-1} + b_z)$\n",
    "    - $g_t = tanh(W^T_{xg} \\cdot x_t + W^T_{hg} \\cdot (r_t \\otimes h_{t-1}) + b_g)$\n",
    "    - $h_t = z_t \\otimes h_{t-1} + (1-z_t) \\otimes g_t$\n",
    "    \n",
    "    \n",
    "참고 : https://excelsior-cjh.tistory.com/185"
   ]
  },
  {
   "cell_type": "markdown",
   "metadata": {},
   "source": [
    "## 2) 케라스에서의 GRU(Gated Recurrent Unit)"
   ]
  },
  {
   "cell_type": "code",
   "execution_count": null,
   "metadata": {},
   "outputs": [],
   "source": [
    "# 실제 GRU 은닉층을 추가하는 코드.\n",
    "model.add(GRU(hidden_size, input_shape=(timesteps, input_dim)))"
   ]
  }
 ],
 "metadata": {
  "kernelspec": {
   "display_name": "Python 3",
   "language": "python",
   "name": "python3"
  },
  "language_info": {
   "codemirror_mode": {
    "name": "ipython",
    "version": 3
   },
   "file_extension": ".py",
   "mimetype": "text/x-python",
   "name": "python",
   "nbconvert_exporter": "python",
   "pygments_lexer": "ipython3",
   "version": "3.7.5"
  },
  "varInspector": {
   "cols": {
    "lenName": 16,
    "lenType": 16,
    "lenVar": 40
   },
   "kernels_config": {
    "python": {
     "delete_cmd_postfix": "",
     "delete_cmd_prefix": "del ",
     "library": "var_list.py",
     "varRefreshCmd": "print(var_dic_list())"
    },
    "r": {
     "delete_cmd_postfix": ") ",
     "delete_cmd_prefix": "rm(",
     "library": "var_list.r",
     "varRefreshCmd": "cat(var_dic_list()) "
    }
   },
   "types_to_exclude": [
    "module",
    "function",
    "builtin_function_or_method",
    "instance",
    "_Feature"
   ],
   "window_display": false
  }
 },
 "nbformat": 4,
 "nbformat_minor": 2
}
