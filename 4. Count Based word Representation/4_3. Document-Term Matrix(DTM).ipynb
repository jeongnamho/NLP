{
 "cells": [
  {
   "cell_type": "markdown",
   "metadata": {},
   "source": [
    "# 3. 문서 단어 행렬(Document-Term Matrix, DTM)\n",
    ">서로 다른 문서들의 BoW들을 결합한 표현 방법"
   ]
  },
  {
   "cell_type": "markdown",
   "metadata": {},
   "source": [
    "## 1) 문서 단어 행렬(Document-Term Matrix, DTM)의 표기법\n",
    "- Example\n",
    "    - 문서1 : 먹고 싶은 사과\n",
    "    - 문서2 : 먹고 싶은 바나나\n",
    "    - 문서3 : 길고 노란 바나나 바나나\n",
    "    - 문서4 : 저는 과일이 좋아요\n",
    "    \n",
    "이를 문서 단어 행렬로 표현하면 다음과 같음\n",
    "\n",
    "|-|과일이|길고|노란|먹고|바나나|사과|싶은|저는|좋아요|\n",
    "|---|---|---|---|---|---|---|---|---|---|\n",
    "|문서1|0|0|0|1|0|1|1|0|0|\n",
    "|문서2|0|0|0|1|1|0|1|0|0|\n",
    "|문서3|0|1|1|0|2|0|0|0|0|\n",
    "|문서4|1|0|0|0|0|0|0|1|1|"
   ]
  },
  {
   "cell_type": "markdown",
   "metadata": {},
   "source": [
    "## 2) 문서 단어 행렬(Document-Term Matrix)의 한계\n",
    "\n",
    "### 희소 표현(Sparse representation)\n",
    "- One-Hot 벡터의 경우, (단어 집합 크기)=(벡터 차원)인데 대부분의 값이 0 $\\Longrightarrow$ 공간적 낭비+ 계산 리소스 증가\n",
    "- DTM도 마찬가지. If 전체 코퍼스 데이터 大 $\\Longrightarrow$ 문서 벡터의 차원은 Very 大\n",
    "- **희소 행렬(sparse matrix)** : 대부분의 값이 0인 행렬\n",
    "- 희소 행렬 Needs 많은 양의 저장 공간과 계산을 위한 리소스\n",
    "- 따라서, **전처리를 통해 단어 집합의 크기를 줄이는 것**이 BoW 표현을 사용하는 모델에서 <ins>매우 중요</ins>\n",
    "\n",
    "### 단순 빈도 수 기반 접근\n",
    "영어에 대해서 DTM을 만들었을 때, 불용어인 the는 어떤 문서이든 자주 등장할 수 밖에 없습니다. 그런데 유사한 문서인지 비교하고 싶은 문서1, 문서2, 문서3에서 동일하게 the가 빈도수가 높다고 해서 이 문서들이 유사한 문서라고 판단해서는 안 됩니다.\n",
    "각 문서에는 중요한 단어와 불필요한 단어들이 혼재되어 있습니다. 앞서 불용어(stopwords)는 자연어 처리에 있어 의미를 거의 갖지 못하는 단어라고 언급한 바 있습니다. 그렇다면 DTM에 불용어와 중요한 단어에 대해서 가중치를 줄 수 있는 방법은 없을까요? 이를 위해 사용하는 것이 다음 챕터에서 배우게 될 **TF-IDF**입니다."
   ]
  }
 ],
 "metadata": {
  "kernelspec": {
   "display_name": "Python 3",
   "language": "python",
   "name": "python3"
  },
  "language_info": {
   "codemirror_mode": {
    "name": "ipython",
    "version": 3
   },
   "file_extension": ".py",
   "mimetype": "text/x-python",
   "name": "python",
   "nbconvert_exporter": "python",
   "pygments_lexer": "ipython3",
   "version": "3.7.5"
  },
  "varInspector": {
   "cols": {
    "lenName": 16,
    "lenType": 16,
    "lenVar": 40
   },
   "kernels_config": {
    "python": {
     "delete_cmd_postfix": "",
     "delete_cmd_prefix": "del ",
     "library": "var_list.py",
     "varRefreshCmd": "print(var_dic_list())"
    },
    "r": {
     "delete_cmd_postfix": ") ",
     "delete_cmd_prefix": "rm(",
     "library": "var_list.r",
     "varRefreshCmd": "cat(var_dic_list()) "
    }
   },
   "types_to_exclude": [
    "module",
    "function",
    "builtin_function_or_method",
    "instance",
    "_Feature"
   ],
   "window_display": false
  }
 },
 "nbformat": 4,
 "nbformat_minor": 2
}
