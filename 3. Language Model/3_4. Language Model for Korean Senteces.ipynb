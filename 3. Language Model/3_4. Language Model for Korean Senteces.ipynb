{
 "cells": [
  {
   "cell_type": "markdown",
   "metadata": {},
   "source": [
    "# 4. 한국어에서의 언어 모델(Language Model for Korean Sentences)\n",
    "- 영어나 기타 언어에 비해서 한국어는 언어 모델로 다음 단어를 예측하기가 훨씬 까다로움"
   ]
  },
  {
   "cell_type": "markdown",
   "metadata": {},
   "source": [
    "## 1) 한국어는 어순이 중요하지 않다.\n",
    "- Examples\n",
    "    - 나는 운동을 합니다 체육관에서\n",
    "    - 나는 체육관에서 운동을 합니다.\n",
    "    - 체육관에서 운동을 합니다.\n",
    "    - 나는 운동을 체육관에서 합니다.\n",
    "\n",
    "위의 예제들은 전부 의미가 통함 $\\Longrightarrow$ 확률에 기반한 언어 모델이 한국어 문장에서 **다음 단어를 예측하기 어려움**"
   ]
  },
  {
   "cell_type": "markdown",
   "metadata": {},
   "source": [
    "## 2) 한국어는 교착어이다.\n",
    "- 대표적인 교착어 : 조사\n",
    "- Example : '그녀'\n",
    "    - 그녀가 / 그녀를 / 그녀의 / 그녀와 / 그녀로 / 그녀께서 / 그녀처럼 \n",
    "    \n",
    "다양한 경우가 존재합니다. 그렇기 때문에, 한국어에서는 <ins>토큰화를 통해 접사나 조사 등을 분리하는 것</ins>은 중요한 작업이 되기도 합니다."
   ]
  },
  {
   "cell_type": "markdown",
   "metadata": {},
   "source": [
    "## 3) 한국어는 띄어쓰기가 제대로 지켜지지 않는다.\n",
    "- 한국어는 띄어쓰기를 제대로 하지 않아도 의미가 전달됌\n",
    "- 띄어쓰기 규칙 또한 상대적으로 까다로운 언어임\n",
    "- 그래서 자연어 처리를 하는 것에 있어서 한국어 코퍼스는 띄어쓰기가 제대로 지켜지지 않는 경우가 많음(토큰이 제대로 분리 되지 않은채 훈련 데이터로 사용된다면 언어 모델은 작동X)"
   ]
  }
 ],
 "metadata": {
  "kernelspec": {
   "display_name": "Python 3",
   "language": "python",
   "name": "python3"
  },
  "language_info": {
   "codemirror_mode": {
    "name": "ipython",
    "version": 3
   },
   "file_extension": ".py",
   "mimetype": "text/x-python",
   "name": "python",
   "nbconvert_exporter": "python",
   "pygments_lexer": "ipython3",
   "version": "3.7.5"
  },
  "varInspector": {
   "cols": {
    "lenName": 16,
    "lenType": 16,
    "lenVar": 40
   },
   "kernels_config": {
    "python": {
     "delete_cmd_postfix": "",
     "delete_cmd_prefix": "del ",
     "library": "var_list.py",
     "varRefreshCmd": "print(var_dic_list())"
    },
    "r": {
     "delete_cmd_postfix": ") ",
     "delete_cmd_prefix": "rm(",
     "library": "var_list.r",
     "varRefreshCmd": "cat(var_dic_list()) "
    }
   },
   "types_to_exclude": [
    "module",
    "function",
    "builtin_function_or_method",
    "instance",
    "_Feature"
   ],
   "window_display": false
  }
 },
 "nbformat": 4,
 "nbformat_minor": 2
}
