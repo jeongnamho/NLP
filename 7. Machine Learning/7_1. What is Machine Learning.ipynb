{
 "cells": [
  {
   "cell_type": "markdown",
   "metadata": {},
   "source": [
    "> AI는 바로 머신 러닝(Machine Learning)과 머신 러닝의 한 갈래인 딥 러닝(Deep Learning)을 의미"
   ]
  },
  {
   "cell_type": "markdown",
   "metadata": {},
   "source": [
    "## 1) 머신 러닝(Machine Learning)이 아닌 접근 방법의 한계\n",
    "\n",
    "<img src=고양이_액체2.jpg width=300>"
   ]
  },
  {
   "cell_type": "markdown",
   "metadata": {},
   "source": [
    "#### Ex) 주어진 사진으로부터 고양이 사진인지 강아지 사진인지 판별하는 일.\n",
    "- 구글에서 강아지와 고양이 사진을 검색해보면 알겠지만, 사진이란 건 사진을 보는 각도, 조명, 타겟의 변형(고양이의 자세)에 따라서 너무나 천차만별이라 사진으로부터 공통된 명확한 특징을 잡아내는 것이 쉽지 않음\n",
    "- 해당 프로그램은 숫자를 정렬하는 것과 같은 명확한 알고리즘이 애초에 존재X\n",
    "- 최근에 shape이나 edge와 같은 것을 찾아내서 알고리즘화 하려는 시도 있음\n",
    "- 그러나 머신러닝이 더 나음"
   ]
  },
  {
   "cell_type": "markdown",
   "metadata": {},
   "source": [
    "## 2) 머신 러닝은 기존 프로그래밍의 한계에 대한 해결책이 될 수 있다\n",
    "\n",
    "<img src=전통_vs_머신러닝.png width=400>\n",
    "\n",
    "머신 러닝은 주어진 데이터로부터 결과를 찾는 것에 초점을 맞추는 것이 아니라, **주어진 데이터로부터 규칙성을 찾는 것**에 초점이 맞추어져 있습니다. 주어진 데이터로부터 규칙성을 찾는 과정을 우리는 학습(training)이라고 합니다."
   ]
  },
  {
   "cell_type": "code",
   "execution_count": null,
   "metadata": {},
   "outputs": [],
   "source": []
  }
 ],
 "metadata": {
  "kernelspec": {
   "display_name": "Python 3",
   "language": "python",
   "name": "python3"
  },
  "language_info": {
   "codemirror_mode": {
    "name": "ipython",
    "version": 3
   },
   "file_extension": ".py",
   "mimetype": "text/x-python",
   "name": "python",
   "nbconvert_exporter": "python",
   "pygments_lexer": "ipython3",
   "version": "3.7.5"
  },
  "varInspector": {
   "cols": {
    "lenName": 16,
    "lenType": 16,
    "lenVar": 40
   },
   "kernels_config": {
    "python": {
     "delete_cmd_postfix": "",
     "delete_cmd_prefix": "del ",
     "library": "var_list.py",
     "varRefreshCmd": "print(var_dic_list())"
    },
    "r": {
     "delete_cmd_postfix": ") ",
     "delete_cmd_prefix": "rm(",
     "library": "var_list.r",
     "varRefreshCmd": "cat(var_dic_list()) "
    }
   },
   "types_to_exclude": [
    "module",
    "function",
    "builtin_function_or_method",
    "instance",
    "_Feature"
   ],
   "window_display": false
  }
 },
 "nbformat": 4,
 "nbformat_minor": 2
}
