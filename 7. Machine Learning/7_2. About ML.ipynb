{
 "cells": [
  {
   "cell_type": "markdown",
   "metadata": {
    "ExecuteTime": {
     "end_time": "2020-07-08T02:45:46.659255Z",
     "start_time": "2020-07-08T02:45:46.654207Z"
    }
   },
   "source": [
    "# 2. 머신 러닝 훑어보기"
   ]
  },
  {
   "cell_type": "markdown",
   "metadata": {},
   "source": [
    "## 1) 머신 러닝 모델의 평가"
   ]
  },
  {
   "cell_type": "markdown",
   "metadata": {},
   "source": [
    "<img src=데이터.png width=400>"
   ]
  },
  {
   "cell_type": "markdown",
   "metadata": {},
   "source": [
    "- 실제 모델을 평가하기 위해서 데이터를 훈련용, 검증용, 테스트용 이렇게 세 가지로 분리하는 것이 일반적\n",
    "    - 검증용 데이터는 모델의 성능을 평가하기 위한 용도가 아니라, 모델의 성능을 조정하기 위한 용도  \n",
    "    $\\Longrightarrow$ **과적합이 되고 있는지 판단하거나 하이퍼파라미터의 조정을 위한 용도**\n",
    "    \n",
    "- 훈련용 데이터로 훈련을 모두 시킨 모델은 검증용 데이터를 사용하여 정확도를 검증하며 하이퍼파라미터를 튜닝(tuning)\n",
    "- 모델의 매개변수는 검증용 데이터로 정확도가 검증되는 과정에서 점차 검증용 데이터에 점점 맞추어져 감\n",
    "- 테스트 데이터를 가지고 모델의 진짜 성능을 평가\n",
    "- 검증 데이터와 테스트 데이터를 나눌 만큼 데이터가 충분하지 않다면 k-폴드 교차 검증이라는 또 다른 방법을 사용\n",
    "\n",
    "#### 훈련 데이터는 문제지, 검증 데이터는 모의고사, 테스트 데이터는 실력을 최종적으로 평가하는 수능 시험"
   ]
  },
  {
   "cell_type": "markdown",
   "metadata": {},
   "source": [
    "## 2) 분류(Classification)와 회귀(Regression)"
   ]
  },
  {
   "cell_type": "markdown",
   "metadata": {},
   "source": [
    "### 이진 분류 문제(Binary Classification)\n",
    "> 주어진 입력에 대해서 둘 중 하나의 답을 정하는 문제(합격/불합격, 정상 메일/스팸 메일)"
   ]
  },
  {
   "cell_type": "markdown",
   "metadata": {},
   "source": [
    "### 다중 클래스 분류(Multi-class Classification)\n",
    "- Example\n",
    "    - 서점 아르바이트를 하는데 과학, 영어, IT, 학습지, 만화라는 레이블이 각각 붙여져 있는 5개의 책장이 있다고 합시다. 새 책이 입고되면, 이 책은 다섯 개의 책장 중에서 분야에 맞는 적절한 책장에 책을 넣어야 합니다. 이 때의 다섯 개의 선택지를 주로 카테고리 또는 범주 또는 클래스라고 하며, 주어진 입력으로부터 정해진 클래스 중 하나로 판단하는 것을 다중 클래스 분류 문제\n"
   ]
  },
  {
   "cell_type": "markdown",
   "metadata": {},
   "source": [
    "### 회귀 문제(Regression)\n",
    "- 연속된 값을 결과로 가짐\n",
    "- Example\n",
    "    - 시험 성적을 예측하는데 5시간 공부하였을 때 80점, 5시간 1분 공부하였을 때는 80.5점, 7시간 공부하였을 때는 90점 등이 나오는 것과 같은 문제가 있습니다. 그 외에도 시계열 데이터를 이용한 주가 예측, 생산량 예측, 지수 예측 등이 이에 속합니다."
   ]
  },
  {
   "cell_type": "markdown",
   "metadata": {},
   "source": [
    "## 3) 지도 학습(Supervised Learning)과 비지도 학습(Unsupervised Learning)\n",
    "> 머신러닝 = 지도 학습$\\cup$비지도 학습$\\cup$강화 학습(이건 생략)"
   ]
  },
  {
   "cell_type": "markdown",
   "metadata": {},
   "source": [
    "### 지도 학습\n",
    "> - 레이블(Label)이라는 정답과 함께 학습하는 것\n",
    "- 레이블이라는 말 외에도 y, 실제값 등으로 부르기도 하는데 이 책에서는 이 용어들을 상황에 따라서 바꿔서 사용"
   ]
  },
  {
   "cell_type": "markdown",
   "metadata": {},
   "source": [
    "### 비지도 학습\n",
    "> 레이블이 없이 학습하는 것\n",
    "- 토픽 모델링의 LDA는 비지도 학습\n",
    "- 뒤에서 배우게 되는 워드투벡터(Word2Vec)는 마치 지도 학습을 닮았지만 비지도 학습임"
   ]
  },
  {
   "cell_type": "markdown",
   "metadata": {},
   "source": [
    "## 4) 샘플(Sample)과 특성(Feature)"
   ]
  },
  {
   "cell_type": "markdown",
   "metadata": {},
   "source": [
    "- 독립 변수의 개수가 n개이고 데이터의 개수가 m인 행렬 X\n",
    "<img src=n_x_m.png width=300>\n",
    "\n",
    "- 하나의 데이터(행)을 **샘플(Sample)**이라고 부름 (데이터베이스에서는 레코드라고 부르는 단위) \n",
    "- 종속 변수 y를 예측하기 위한 각각의 독립 변수 x를 **특성(Feature)**이라고 부름"
   ]
  },
  {
   "cell_type": "markdown",
   "metadata": {},
   "source": [
    "## 5) 혼동 행렬(Confusion Matrix)"
   ]
  },
  {
   "cell_type": "markdown",
   "metadata": {},
   "source": [
    "|-|참(predicted)|거짓(predicted)|\n",
    "|---|:-:|:-:|\n",
    "|참(actual)|TP|FN|\n",
    "|거짓(actual)|FP|TN|\n",
    "\n",
    "### 정밀도(Precision)\n",
    "- 참이라고 예측했던 것 중에서 진짜 참인 비율\n",
    "\\begin{align}\n",
    "정밀도 = \\frac{TP}{TP + FP}\n",
    "\\end{align}\n",
    "\n",
    "### 재현률(Recall)\n",
    "- 진짜 참 중에서 참이라고 재현(예측)했던 비율\n",
    "\n",
    "\\begin{align}\n",
    "재현률 = \\frac{TP}{TP + FN}\n",
    "\\end{align}"
   ]
  },
  {
   "cell_type": "markdown",
   "metadata": {},
   "source": [
    "## 6) 과적합(Overfitting)과 과소 적합(Underfitting)\n",
    "- **과적합(Overfitting)**이란 훈련 데이터를 과하게 학습한 경우\n",
    "- 훈련 데이터에 대해서는 오차가 낮지만, 테스트 데이터에 대해서는 오차가 높아지는 상황\n",
    "- epoch=30로 주어서 의도적으로 과적함을 시킨 사례\n",
    "<img src=스팸_메일_오차.png width=400>\n",
    "- 테스트 데이터의 오차가 증가하기 전이나, 정확도가 감소하기 전에 훈련을 멈추는 것이 바람직\n",
    "- 테스트 데이터의 성능이 올라갈 여지가 있음에도 훈련을 덜 한 상태를 반대로 **과소적합(Underfitting)**\n",
    "- 딥 러닝을 할 때는 과적합을 막을 수 있는 드롭 아웃(Drop out), 조기 종료(Early Stopping)과 같은 몇 가지 방법이 존재 --> Ch.8에서 소개"
   ]
  }
 ],
 "metadata": {
  "kernelspec": {
   "display_name": "Python 3",
   "language": "python",
   "name": "python3"
  },
  "language_info": {
   "codemirror_mode": {
    "name": "ipython",
    "version": 3
   },
   "file_extension": ".py",
   "mimetype": "text/x-python",
   "name": "python",
   "nbconvert_exporter": "python",
   "pygments_lexer": "ipython3",
   "version": "3.7.5"
  },
  "varInspector": {
   "cols": {
    "lenName": 16,
    "lenType": 16,
    "lenVar": 40
   },
   "kernels_config": {
    "python": {
     "delete_cmd_postfix": "",
     "delete_cmd_prefix": "del ",
     "library": "var_list.py",
     "varRefreshCmd": "print(var_dic_list())"
    },
    "r": {
     "delete_cmd_postfix": ") ",
     "delete_cmd_prefix": "rm(",
     "library": "var_list.r",
     "varRefreshCmd": "cat(var_dic_list()) "
    }
   },
   "types_to_exclude": [
    "module",
    "function",
    "builtin_function_or_method",
    "instance",
    "_Feature"
   ],
   "window_display": false
  }
 },
 "nbformat": 4,
 "nbformat_minor": 2
}
