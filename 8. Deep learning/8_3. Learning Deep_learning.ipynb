{
 "cells": [
  {
   "cell_type": "markdown",
   "metadata": {},
   "source": [
    "# 3. 딥 러닝의 학습 방법"
   ]
  },
  {
   "cell_type": "markdown",
   "metadata": {},
   "source": [
    "## 1) 순전파(Foward Propagation)\n",
    "\n",
    "## 2) 손실 함수(Loss function)\n",
    "> 실제값과 예측값의 차이를 수치화해주는 함수\n",
    "\n",
    "- 손실 함수의 값을 최소화하는 $W$, $b$를 찾아가는 것이 딥러닝의 학습 과정\n",
    "\n",
    "### MSE(Mean Squared Error, MSE)\n",
    "MSE = $-\\frac{1}{N}(y-\\hat{y})^2$\n",
    "\n",
    "### 크로스 엔트로피(Cross-Entropy)\n",
    "\n",
    "- $y$ : 실제값(0 or 1), $\\hat{y}$ : 예측값(확률)\n",
    "    - $\\sum ylog(\\hat{y})$\n",
    "- 낮은 확률로 맞추거나, 높은 확률로 틀리는 경우, loss가 더 큼\n",
    "- 이진 분류의 경우, binary_crossentropy\n",
    "- 다중 클래스 분류, categorical_crossentropy"
   ]
  },
  {
   "cell_type": "markdown",
   "metadata": {},
   "source": [
    "## 3) 옵티마이저(Optimizer)\n",
    "<img src=역전파_과정.png width=300>\n",
    "\n",
    "- **배치(batch)** : 가중치 등의 매개 변수의 값을 조정하기 위해 사용하는 데이터의 양"
   ]
  },
  {
   "cell_type": "markdown",
   "metadata": {},
   "source": [
    "### 배치 경사 하강법(Batch Gradient Descent)\n",
    "- 오차(loss)를 구할 때 전체 데이터를 고려\n",
    "- 즉, 한 번의 에포크에 모든 매개변수 업데이트를 단 한 번 수행\n",
    "- 전체 데이터를 고려해서 학습하므로 에포크당 시간이 오래 걸리며, 메모리를 크게 요구한다는 단점이 있으나 글로벌 미니멈을 찾을 수 있다는 장점"
   ]
  },
  {
   "cell_type": "code",
   "execution_count": null,
   "metadata": {},
   "outputs": [],
   "source": [
    "model.fit(X_train, y_train, batch_size=len(trainX))"
   ]
  },
  {
   "cell_type": "markdown",
   "metadata": {},
   "source": [
    "### 확률적 경사 하강법(Stochastic Gradient Descent, SGD)\n",
    "- 매개변수 값을 조정 시 전체 데이터가 아니라 랜덤으로 선택한 하나의 데이터에 대해서만 계산하는 방법\n",
    "<img src=경사하강법SGD.png width=400>"
   ]
  },
  {
   "cell_type": "code",
   "execution_count": null,
   "metadata": {},
   "outputs": [],
   "source": [
    "model.fit(X_train, y_train, batch_size=1)"
   ]
  },
  {
   "cell_type": "markdown",
   "metadata": {},
   "source": [
    "### 미니 배치 경사 하강법(Mini-Batch Gradient Descent)\n",
    "- 전체 데이터를 계산하는 것보다 빠르며, SGD보다 안정적\n",
    "- 실제로 가장 많이 사용되는 경사하강법"
   ]
  },
  {
   "cell_type": "code",
   "execution_count": null,
   "metadata": {},
   "outputs": [],
   "source": [
    "model.fit(X_train, y_train, batch_size=32)"
   ]
  },
  {
   "cell_type": "markdown",
   "metadata": {},
   "source": [
    "### 모멘텀(Momentum)\n",
    "- 관성을 이용한 아이디어\n",
    "- SGD에서 계산된 접선의 기울기에 한 시점(step) 전의 접선의 기울기값을 일정한 비율만큼 반영\n",
    "- 로컬 미니멈에서 탈출하는 효과 얻을 수 있음"
   ]
  },
  {
   "cell_type": "code",
   "execution_count": null,
   "metadata": {},
   "outputs": [],
   "source": [
    "keras.optimizers.SGD(lr = 0.01, momentum= 0.9)"
   ]
  },
  {
   "cell_type": "markdown",
   "metadata": {},
   "source": [
    "### 아다그라드(Adagrad)\n",
    "- 각 매개변수에 서로 다른 학습률을 적용\n",
    "- 변화가 많은 매개변수는 학습률이 작게 설정되고 변화가 적은 매개변수는 학습률을 높게 설정"
   ]
  },
  {
   "cell_type": "code",
   "execution_count": null,
   "metadata": {},
   "outputs": [],
   "source": [
    "keras.optimizers.Adagrad(lr=0.01, epsilon=1e-6)"
   ]
  },
  {
   "cell_type": "markdown",
   "metadata": {},
   "source": [
    "### 알엠에스프롭(RMSprop)\n",
    "- 아다그라드는 학습을 계속 진행한 경우에는, 나중에 가서는 학습률이 지나치게 떨어진다는 단점이 있는데 이를 다른 수식으로 대체하여 이러한 단점을 개선"
   ]
  },
  {
   "cell_type": "code",
   "execution_count": null,
   "metadata": {},
   "outputs": [],
   "source": [
    "keras.optimizers.RMSprop(lr=0.001, rho=0.9, epsilon=1e-06)"
   ]
  },
  {
   "cell_type": "markdown",
   "metadata": {},
   "source": [
    "### 아담(Adam)\n",
    "- 알엠에스프롭(RMSprop) + 모멘텀 인듯한 방법\n",
    "- 방향과 학습률 모두 잡기 위한 방법"
   ]
  },
  {
   "cell_type": "code",
   "execution_count": null,
   "metadata": {},
   "outputs": [],
   "source": [
    "keras.optimizers.Adam(lr=0.001, beta_1=0.9, beta_2=0.999, epsilon=None, decay=0.0, amsgrad=False)"
   ]
  },
  {
   "cell_type": "markdown",
   "metadata": {},
   "source": [
    "## 4) 역전파(BackPropagation)\n",
    "\n",
    "오우..."
   ]
  },
  {
   "cell_type": "markdown",
   "metadata": {},
   "source": [
    "### 5) 에포크와 배치 크기와 이터레이션(Epochs and Batch size and Iteration)\n",
    "\n",
    "[김태영의 케라스 블로그](https://tykimos.github.io/2017/03/25/Fit_Talk/)"
   ]
  },
  {
   "cell_type": "code",
   "execution_count": null,
   "metadata": {},
   "outputs": [],
   "source": []
  }
 ],
 "metadata": {
  "kernelspec": {
   "display_name": "Python 3",
   "language": "python",
   "name": "python3"
  },
  "language_info": {
   "codemirror_mode": {
    "name": "ipython",
    "version": 3
   },
   "file_extension": ".py",
   "mimetype": "text/x-python",
   "name": "python",
   "nbconvert_exporter": "python",
   "pygments_lexer": "ipython3",
   "version": "3.7.5"
  },
  "varInspector": {
   "cols": {
    "lenName": 16,
    "lenType": 16,
    "lenVar": 40
   },
   "kernels_config": {
    "python": {
     "delete_cmd_postfix": "",
     "delete_cmd_prefix": "del ",
     "library": "var_list.py",
     "varRefreshCmd": "print(var_dic_list())"
    },
    "r": {
     "delete_cmd_postfix": ") ",
     "delete_cmd_prefix": "rm(",
     "library": "var_list.r",
     "varRefreshCmd": "cat(var_dic_list()) "
    }
   },
   "types_to_exclude": [
    "module",
    "function",
    "builtin_function_or_method",
    "instance",
    "_Feature"
   ],
   "window_display": false
  }
 },
 "nbformat": 4,
 "nbformat_minor": 2
}
