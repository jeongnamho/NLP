{
 "cells": [
  {
   "cell_type": "markdown",
   "metadata": {},
   "source": [
    "# 1. 퍼셉트론(Perceptron)\n",
    "> 수많은 머신 러닝 방법 중 하나로, 인공신경망을 복잡하게 쌓아올린 딥 러닝이 다른 머신러닝 방법들을 뛰어넘는 성능을 보여주고 있어서 따로 배움"
   ]
  },
  {
   "cell_type": "markdown",
   "metadata": {},
   "source": [
    "<img src=뉴런.png width=300>\n",
    "\n",
    "<img src=perceptrin1_final.png width=200>\n",
    "\n",
    "- $x$는 input, $W$는 weight, $y$는 output\n",
    "- 각각의 입력값에는 각각의 가중치가 존재하는데, 이때 가중치의 값이 크면 클수록 해당 입력 값이 중요하다는 것을 의미"
   ]
  },
  {
   "cell_type": "markdown",
   "metadata": {},
   "source": [
    "- step function\n",
    "    - if $\\sum^n_{i}W_ix_i \\geq \\theta$ (threshold) $\\Longrightarrow$ y=1\n",
    "    - if $\\sum^n_{i}W_ix_i < \\theta$ (threshold) $\\Longrightarrow$ y=0"
   ]
  },
  {
   "cell_type": "markdown",
   "metadata": {},
   "source": [
    "여기서, threshold $\\theta$를 좌변으로 넘기고 bias $b$로 표현할 수 있음\n",
    "\n",
    "<img src=perceptron2_final.png width=200>\n",
    "\n",
    "- if $\\sum^n_{i}W_ix_i + b \\geq $ 0 $\\Longrightarrow$ y=1\n",
    "- if $\\sum^n_{i}W_ix_i + b < 0 \\Longrightarrow$ y=0\n",
    "\n",
    "※ output 갑을 변경시키는 함수 $\\Longrightarrow$ **Activation function**\n",
    "\n",
    "퍼셉트론의 활성화 함수는 계단 함수이지만 여기서 활성화 함수를 시그모이드 함수로 변경하면 방금 배운 퍼셉트론은 곧 이진 분류를 수행하는 로지스틱 회귀와 동일함을 알 수 있습니다.\n",
    "\n",
    "**다시 말하면 로지스틱 회귀 모델이 인공 신경망에서는 하나의 인공 뉴런으로 볼 수 있습니다.**"
   ]
  },
  {
   "cell_type": "markdown",
   "metadata": {},
   "source": [
    "## 2) 단층 퍼셉트론(Single-Layer Perceptron)\n",
    "\n",
    "<img src=perceptron3_final.png width=200>\n",
    "\n",
    "- 층(layer) : 값을 보내는 단계와 값을 받아서 출력하는 단계로 이루어져 있을 때, 이 단계들을 층이라고 함\n",
    "- input layer, output layer\n",
    "- Using 단층 퍼셉트론, And, NAND, OR 게이트를 쉽게 구현 가능\n",
    "- AND 게이트\n",
    "    \n",
    "|$x_1$|$x_2$|$y$|\n",
    "|---|---|---|\n",
    "|0|0|0|\n",
    "|0|1|0|\n",
    "|1|0|0|\n",
    "|1|1|1|\n",
    "\n"
   ]
  },
  {
   "cell_type": "code",
   "execution_count": 1,
   "metadata": {
    "ExecuteTime": {
     "end_time": "2020-07-10T04:03:54.545604Z",
     "start_time": "2020-07-10T04:03:54.540615Z"
    }
   },
   "outputs": [
    {
     "name": "stdout",
     "output_type": "stream",
     "text": [
      "0 0 0 1\n"
     ]
    }
   ],
   "source": [
    "def AND_gate(x1, x2):\n",
    "    w1=0.5\n",
    "    w2=0.5\n",
    "    b=-0.7\n",
    "    result = x1*w1 + x2*w2 + b\n",
    "    if result <= 0:\n",
    "        return 0\n",
    "    else:\n",
    "        return 1\n",
    "        \n",
    "print(AND_gate(0, 0), AND_gate(0, 1), AND_gate(1, 0), AND_gate(1, 1))"
   ]
  },
  {
   "cell_type": "markdown",
   "metadata": {},
   "source": [
    "- NAND 게이트\n",
    "    \n",
    "|$x_1$|$x_2$|$y$|\n",
    "|---|---|---|\n",
    "|0|0|1|\n",
    "|0|1|1|\n",
    "|1|0|1|\n",
    "|1|1|0|"
   ]
  },
  {
   "cell_type": "code",
   "execution_count": 2,
   "metadata": {
    "ExecuteTime": {
     "end_time": "2020-07-10T04:05:18.606636Z",
     "start_time": "2020-07-10T04:05:18.600617Z"
    }
   },
   "outputs": [
    {
     "name": "stdout",
     "output_type": "stream",
     "text": [
      "1 1 1 0\n"
     ]
    }
   ],
   "source": [
    "def NAND_gate(x1, x2):\n",
    "    w1=-0.5\n",
    "    w2=-0.5\n",
    "    b=0.7\n",
    "    result = x1*w1 + x2*w2 + b\n",
    "    if result <= 0:\n",
    "        return 0\n",
    "    else:\n",
    "        return 1\n",
    "    \n",
    "print(NAND_gate(0, 0), NAND_gate(0, 1), NAND_gate(1, 0), NAND_gate(1, 1))"
   ]
  },
  {
   "cell_type": "markdown",
   "metadata": {},
   "source": [
    "- OR 게이트\n",
    "    \n",
    "|$x_1$|$x_2$|$y$|\n",
    "|---|---|---|\n",
    "|0|0|0|\n",
    "|0|1|1|\n",
    "|1|0|1|\n",
    "|1|1|1|"
   ]
  },
  {
   "cell_type": "code",
   "execution_count": 3,
   "metadata": {
    "ExecuteTime": {
     "end_time": "2020-07-10T04:06:05.856446Z",
     "start_time": "2020-07-10T04:06:05.849465Z"
    }
   },
   "outputs": [
    {
     "name": "stdout",
     "output_type": "stream",
     "text": [
      "0 1 1 1\n"
     ]
    }
   ],
   "source": [
    "def OR_gate(x1, x2):\n",
    "    w1=0.6\n",
    "    w2=0.6\n",
    "    b=-0.5\n",
    "    result = x1*w1 + x2*w2 + b\n",
    "    if result <= 0:\n",
    "        return 0\n",
    "    else:\n",
    "        return 1\n",
    "\n",
    "print(OR_gate(0, 0), OR_gate(0, 1), OR_gate(1, 0), OR_gate(1, 1))"
   ]
  },
  {
   "cell_type": "markdown",
   "metadata": {},
   "source": [
    "- 단층 퍼셉트론으로 구현 불가능한 게이트 $\\Longrightarrow$ **XOR** 게이트\n",
    "    - Why? 단층 퍼셉트론은 직선 하나로 두 영역을 나눌 수 있는 문제에 대해서만 구현이 가능\n",
    "    - 이런 경우, 다층 퍼셉트론으로 구현 가능(nonlinear)\n",
    "    \n",
    "<img src=xorgraphandxorgate.png width=300>\n",
    "\n",
    "<img src=xorgate_nonlinearity.png width=250>"
   ]
  },
  {
   "cell_type": "markdown",
   "metadata": {},
   "source": [
    "## 3) 다층 퍼셉트론(MultiLayer Perceptron, MLP)\n",
    "- XOR = AND+NAND+OR\n",
    "- 퍼셉트론 관점에서, 층을 더 쌓으면 만들 수 있음\n",
    "<img src=perceptron_4image.jpg width=300>\n",
    "\n",
    "- **다층 퍼셉트론** : 은닉층(hidden layer)가 1개 이상인 퍼셉트론"
   ]
  },
  {
   "cell_type": "markdown",
   "metadata": {},
   "source": [
    "- 심층 신경망(Deep Neural Network, DNN) : 은닉층 2개 이상인 신경망\n",
    "<img src=입은층.png width=300>"
   ]
  },
  {
   "cell_type": "markdown",
   "metadata": {},
   "source": [
    "지금까지는 OR, AND, XOR 게이트 등. 퍼셉트론이 가야할 정답을 참고로 퍼셉트론이 정답을 출력할 때까지 가중치를 바꿔보면서 맞는 가중치를 찾았습니다. 즉, 가중치를 수동으로 찾았습니다. 하지만 이제는 기계가 가중치를 스스로 찾아내도록 자동화시켜야하는데, 이것이 머신 러닝에서 말하는 **학습(training)** 단계에 해당됩니다."
   ]
  }
 ],
 "metadata": {
  "kernelspec": {
   "display_name": "Python 3",
   "language": "python",
   "name": "python3"
  },
  "language_info": {
   "codemirror_mode": {
    "name": "ipython",
    "version": 3
   },
   "file_extension": ".py",
   "mimetype": "text/x-python",
   "name": "python",
   "nbconvert_exporter": "python",
   "pygments_lexer": "ipython3",
   "version": "3.7.5"
  },
  "varInspector": {
   "cols": {
    "lenName": 16,
    "lenType": 16,
    "lenVar": 40
   },
   "kernels_config": {
    "python": {
     "delete_cmd_postfix": "",
     "delete_cmd_prefix": "del ",
     "library": "var_list.py",
     "varRefreshCmd": "print(var_dic_list())"
    },
    "r": {
     "delete_cmd_postfix": ") ",
     "delete_cmd_prefix": "rm(",
     "library": "var_list.r",
     "varRefreshCmd": "cat(var_dic_list()) "
    }
   },
   "types_to_exclude": [
    "module",
    "function",
    "builtin_function_or_method",
    "instance",
    "_Feature"
   ],
   "window_display": false
  }
 },
 "nbformat": 4,
 "nbformat_minor": 2
}
