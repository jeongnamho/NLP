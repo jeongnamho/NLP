{
 "cells": [
  {
   "cell_type": "markdown",
   "metadata": {},
   "source": [
    "# 4. 과적합(Overfitting)을 막는 방법들"
   ]
  },
  {
   "cell_type": "markdown",
   "metadata": {},
   "source": [
    "## 1) 데이터의 양을 늘리기\n",
    "- 데이터 양이 적을 때는 Augmentation을 쓰기도 함"
   ]
  },
  {
   "cell_type": "markdown",
   "metadata": {},
   "source": [
    "## 2) 모델의 복잡도 줄이기\n",
    "- 복잡도는 은닉층의 수나 매개변수의 수 등으로 결정"
   ]
  },
  {
   "cell_type": "markdown",
   "metadata": {},
   "source": [
    "## 3) 가중치 규제(Regularization) 적용하기\n",
    "> 모델을 간단하게 하는 방법\n",
    "\n",
    "- L1 규제 : $\\sum_{i=1}^n \\big(y_i-\\sum_{j=1}^p x_{ij}\\beta_j  \\big)^2 + \\lambda \\sum_{j=1}^p |\\beta_j|$\n",
    "- L2 규제 : $\\sum_{i=1}^n \\big(y_i-\\sum_{j=1}^p x_{ij}\\beta_j  \\big)^2 + \\lambda \\sum_{j=1}^p |\\beta_j|^2$\n",
    "- $\\lambda$는 규제의 강도를 정하는 하이퍼파라미터\n",
    "- $\\lambda$ 가 크다면 모델이 훈련 데이터에 대해서 적합한 매개 변수를 찾는 것보다 규제를 위해 추가된 항들을 작게 유지하는 것을 우선한다는 의미"
   ]
  },
  {
   "cell_type": "code",
   "execution_count": null,
   "metadata": {},
   "outputs": [],
   "source": []
  },
  {
   "cell_type": "code",
   "execution_count": null,
   "metadata": {},
   "outputs": [],
   "source": []
  }
 ],
 "metadata": {
  "kernelspec": {
   "display_name": "Python 3",
   "language": "python",
   "name": "python3"
  },
  "language_info": {
   "codemirror_mode": {
    "name": "ipython",
    "version": 3
   },
   "file_extension": ".py",
   "mimetype": "text/x-python",
   "name": "python",
   "nbconvert_exporter": "python",
   "pygments_lexer": "ipython3",
   "version": "3.7.5"
  },
  "varInspector": {
   "cols": {
    "lenName": 16,
    "lenType": 16,
    "lenVar": 40
   },
   "kernels_config": {
    "python": {
     "delete_cmd_postfix": "",
     "delete_cmd_prefix": "del ",
     "library": "var_list.py",
     "varRefreshCmd": "print(var_dic_list())"
    },
    "r": {
     "delete_cmd_postfix": ") ",
     "delete_cmd_prefix": "rm(",
     "library": "var_list.r",
     "varRefreshCmd": "cat(var_dic_list()) "
    }
   },
   "types_to_exclude": [
    "module",
    "function",
    "builtin_function_or_method",
    "instance",
    "_Feature"
   ],
   "window_display": false
  }
 },
 "nbformat": 4,
 "nbformat_minor": 2
}
